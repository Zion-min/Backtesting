{
 "cells": [
  {
   "cell_type": "code",
   "execution_count": 5,
   "id": "5edd150b",
   "metadata": {},
   "outputs": [],
   "source": [
    "from selenium import webdriver"
   ]
  },
  {
   "cell_type": "code",
   "execution_count": 6,
   "id": "f91c1dc5",
   "metadata": {
    "scrolled": true
   },
   "outputs": [
    {
     "name": "stderr",
     "output_type": "stream",
     "text": [
      "C:\\Users\\ddh10\\AppData\\Local\\Temp/ipykernel_11364/3817203979.py:1: DeprecationWarning: executable_path has been deprecated, please pass in a Service object\n",
      "  driver = webdriver.Chrome(\"C:/Users/ddh10/Downloads/chromedriver\")\n"
     ]
    }
   ],
   "source": [
    "driver = webdriver.Chrome(\"C:/Users/ddh10/Downloads/chromedriver\")"
   ]
  },
  {
   "cell_type": "code",
   "execution_count": 31,
   "id": "0d290042",
   "metadata": {},
   "outputs": [],
   "source": [
    "driver.get('https://store.musinsa.com/app/goods/2034594')"
   ]
  },
  {
   "cell_type": "code",
   "execution_count": 32,
   "id": "523ef8fc",
   "metadata": {},
   "outputs": [
    {
     "name": "stderr",
     "output_type": "stream",
     "text": [
      "C:\\Users\\ddh10\\AppData\\Local\\Temp/ipykernel_11364/3541309331.py:1: DeprecationWarning: find_element_by_* commands are deprecated. Please use find_element() instead\n",
      "  text = driver.find_element_by_xpath('//*[@id=\"estimateBox\"]/div[3]/ul/li[3]')\n"
     ]
    }
   ],
   "source": [
    "text = driver.find_element_by_xpath('//*[@id=\"estimateBox\"]/div[3]/ul/li[3]')"
   ]
  },
  {
   "cell_type": "code",
   "execution_count": 33,
   "id": "ddd38d1e",
   "metadata": {},
   "outputs": [],
   "source": [
    "text.click()  "
   ]
  },
  {
   "cell_type": "code",
   "execution_count": 35,
   "id": "4d14ed8c",
   "metadata": {},
   "outputs": [],
   "source": [
    "driver.execute_script(\"document.querySelector('#default_top > div > div.extend_banner').style.display='none';\")"
   ]
  },
  {
   "cell_type": "code",
   "execution_count": 40,
   "id": "a51e480f",
   "metadata": {},
   "outputs": [],
   "source": [
    "driver.execute_script(\"document.querySelector('#ch-plugin-core > div.FullScreenPushMessagestyled__Wrapper-nxoc25-13.jrbFdC.PushMessagestyled__PCPopupMessage-vqm8p7-1.erqHAF > div > div.FullScreenPushMessagestyled__Header-nxoc25-7.zUEkE').style.display='none';\")"
   ]
  },
  {
   "cell_type": "code",
   "execution_count": 41,
   "id": "0295e600",
   "metadata": {},
   "outputs": [
    {
     "ename": "JavascriptException",
     "evalue": "Message: javascript error: Cannot read properties of null (reading 'style')\n  (Session info: chrome=95.0.4638.69)\nStacktrace:\nBacktrace:\n\tOrdinal0 [0x0107B9D3+2472403]\n\tOrdinal0 [0x01016961+2058593]\n\tOrdinal0 [0x00F222B8+1057464]\n\tOrdinal0 [0x00F249E4+1067492]\n\tOrdinal0 [0x00F248AE+1067182]\n\tOrdinal0 [0x00F2510A+1069322]\n\tOrdinal0 [0x00F75299+1397401]\n\tOrdinal0 [0x00F65593+1332627]\n\tOrdinal0 [0x00F7495F+1395039]\n\tOrdinal0 [0x00F6545B+1332315]\n\tOrdinal0 [0x00F41FB4+1187764]\n\tOrdinal0 [0x00F42E09+1191433]\n\tGetHandleVerifier [0x01203396+1551078]\n\tGetHandleVerifier [0x012AD53A+2247818]\n\tGetHandleVerifier [0x01107FBB+521995]\n\tGetHandleVerifier [0x01107079+518089]\n\tOrdinal0 [0x0101BD4D+2080077]\n\tOrdinal0 [0x0101FC18+2096152]\n\tOrdinal0 [0x0101FD52+2096466]\n\tOrdinal0 [0x010294B1+2135217]\n\tBaseThreadInitThunk [0x7678FA29+25]\n\tRtlGetAppContainerNamedObjectPath [0x773E7A9E+286]\n\tRtlGetAppContainerNamedObjectPath [0x773E7A6E+238]\n",
     "output_type": "error",
     "traceback": [
      "\u001b[1;31m---------------------------------------------------------------------------\u001b[0m",
      "\u001b[1;31mJavascriptException\u001b[0m                       Traceback (most recent call last)",
      "\u001b[1;32m~\\AppData\\Local\\Temp/ipykernel_11364/3844113169.py\u001b[0m in \u001b[0;36m<module>\u001b[1;34m\u001b[0m\n\u001b[1;32m----> 1\u001b[1;33m \u001b[0mdriver\u001b[0m\u001b[1;33m.\u001b[0m\u001b[0mexecute_script\u001b[0m\u001b[1;33m(\u001b[0m\u001b[1;34m\"document.querySelector('#page_product_detail > div.right_area.page_detail_product > div.popup_info.layer-suggest-join > div').style.display='none';\"\u001b[0m\u001b[1;33m)\u001b[0m\u001b[1;33m\u001b[0m\u001b[1;33m\u001b[0m\u001b[0m\n\u001b[0m",
      "\u001b[1;32m~\\anaconda3\\envs\\new\\lib\\site-packages\\selenium\\webdriver\\remote\\webdriver.py\u001b[0m in \u001b[0;36mexecute_script\u001b[1;34m(self, script, *args)\u001b[0m\n\u001b[0;32m    870\u001b[0m         \u001b[0mcommand\u001b[0m \u001b[1;33m=\u001b[0m \u001b[0mCommand\u001b[0m\u001b[1;33m.\u001b[0m\u001b[0mW3C_EXECUTE_SCRIPT\u001b[0m\u001b[1;33m\u001b[0m\u001b[1;33m\u001b[0m\u001b[0m\n\u001b[0;32m    871\u001b[0m \u001b[1;33m\u001b[0m\u001b[0m\n\u001b[1;32m--> 872\u001b[1;33m         return self.execute(command, {\n\u001b[0m\u001b[0;32m    873\u001b[0m             \u001b[1;34m'script'\u001b[0m\u001b[1;33m:\u001b[0m \u001b[0mscript\u001b[0m\u001b[1;33m,\u001b[0m\u001b[1;33m\u001b[0m\u001b[1;33m\u001b[0m\u001b[0m\n\u001b[0;32m    874\u001b[0m             'args': converted_args})['value']\n",
      "\u001b[1;32m~\\anaconda3\\envs\\new\\lib\\site-packages\\selenium\\webdriver\\remote\\webdriver.py\u001b[0m in \u001b[0;36mexecute\u001b[1;34m(self, driver_command, params)\u001b[0m\n\u001b[0;32m    416\u001b[0m         \u001b[0mresponse\u001b[0m \u001b[1;33m=\u001b[0m \u001b[0mself\u001b[0m\u001b[1;33m.\u001b[0m\u001b[0mcommand_executor\u001b[0m\u001b[1;33m.\u001b[0m\u001b[0mexecute\u001b[0m\u001b[1;33m(\u001b[0m\u001b[0mdriver_command\u001b[0m\u001b[1;33m,\u001b[0m \u001b[0mparams\u001b[0m\u001b[1;33m)\u001b[0m\u001b[1;33m\u001b[0m\u001b[1;33m\u001b[0m\u001b[0m\n\u001b[0;32m    417\u001b[0m         \u001b[1;32mif\u001b[0m \u001b[0mresponse\u001b[0m\u001b[1;33m:\u001b[0m\u001b[1;33m\u001b[0m\u001b[1;33m\u001b[0m\u001b[0m\n\u001b[1;32m--> 418\u001b[1;33m             \u001b[0mself\u001b[0m\u001b[1;33m.\u001b[0m\u001b[0merror_handler\u001b[0m\u001b[1;33m.\u001b[0m\u001b[0mcheck_response\u001b[0m\u001b[1;33m(\u001b[0m\u001b[0mresponse\u001b[0m\u001b[1;33m)\u001b[0m\u001b[1;33m\u001b[0m\u001b[1;33m\u001b[0m\u001b[0m\n\u001b[0m\u001b[0;32m    419\u001b[0m             response['value'] = self._unwrap_value(\n\u001b[0;32m    420\u001b[0m                 response.get('value', None))\n",
      "\u001b[1;32m~\\anaconda3\\envs\\new\\lib\\site-packages\\selenium\\webdriver\\remote\\errorhandler.py\u001b[0m in \u001b[0;36mcheck_response\u001b[1;34m(self, response)\u001b[0m\n\u001b[0;32m    241\u001b[0m                 \u001b[0malert_text\u001b[0m \u001b[1;33m=\u001b[0m \u001b[0mvalue\u001b[0m\u001b[1;33m[\u001b[0m\u001b[1;34m'alert'\u001b[0m\u001b[1;33m]\u001b[0m\u001b[1;33m.\u001b[0m\u001b[0mget\u001b[0m\u001b[1;33m(\u001b[0m\u001b[1;34m'text'\u001b[0m\u001b[1;33m)\u001b[0m\u001b[1;33m\u001b[0m\u001b[1;33m\u001b[0m\u001b[0m\n\u001b[0;32m    242\u001b[0m             \u001b[1;32mraise\u001b[0m \u001b[0mexception_class\u001b[0m\u001b[1;33m(\u001b[0m\u001b[0mmessage\u001b[0m\u001b[1;33m,\u001b[0m \u001b[0mscreen\u001b[0m\u001b[1;33m,\u001b[0m \u001b[0mstacktrace\u001b[0m\u001b[1;33m,\u001b[0m \u001b[0malert_text\u001b[0m\u001b[1;33m)\u001b[0m  \u001b[1;31m# type: ignore[call-arg]  # mypy is not smart enough here\u001b[0m\u001b[1;33m\u001b[0m\u001b[1;33m\u001b[0m\u001b[0m\n\u001b[1;32m--> 243\u001b[1;33m         \u001b[1;32mraise\u001b[0m \u001b[0mexception_class\u001b[0m\u001b[1;33m(\u001b[0m\u001b[0mmessage\u001b[0m\u001b[1;33m,\u001b[0m \u001b[0mscreen\u001b[0m\u001b[1;33m,\u001b[0m \u001b[0mstacktrace\u001b[0m\u001b[1;33m)\u001b[0m\u001b[1;33m\u001b[0m\u001b[1;33m\u001b[0m\u001b[0m\n\u001b[0m\u001b[0;32m    244\u001b[0m \u001b[1;33m\u001b[0m\u001b[0m\n\u001b[0;32m    245\u001b[0m     \u001b[1;32mdef\u001b[0m \u001b[0m_value_or_default\u001b[0m\u001b[1;33m(\u001b[0m\u001b[0mself\u001b[0m\u001b[1;33m,\u001b[0m \u001b[0mobj\u001b[0m\u001b[1;33m:\u001b[0m \u001b[0mMapping\u001b[0m\u001b[1;33m[\u001b[0m\u001b[0m_KT\u001b[0m\u001b[1;33m,\u001b[0m \u001b[0m_VT\u001b[0m\u001b[1;33m]\u001b[0m\u001b[1;33m,\u001b[0m \u001b[0mkey\u001b[0m\u001b[1;33m:\u001b[0m \u001b[0m_KT\u001b[0m\u001b[1;33m,\u001b[0m \u001b[0mdefault\u001b[0m\u001b[1;33m:\u001b[0m \u001b[0m_VT\u001b[0m\u001b[1;33m)\u001b[0m \u001b[1;33m->\u001b[0m \u001b[0m_VT\u001b[0m\u001b[1;33m:\u001b[0m\u001b[1;33m\u001b[0m\u001b[1;33m\u001b[0m\u001b[0m\n",
      "\u001b[1;31mJavascriptException\u001b[0m: Message: javascript error: Cannot read properties of null (reading 'style')\n  (Session info: chrome=95.0.4638.69)\nStacktrace:\nBacktrace:\n\tOrdinal0 [0x0107B9D3+2472403]\n\tOrdinal0 [0x01016961+2058593]\n\tOrdinal0 [0x00F222B8+1057464]\n\tOrdinal0 [0x00F249E4+1067492]\n\tOrdinal0 [0x00F248AE+1067182]\n\tOrdinal0 [0x00F2510A+1069322]\n\tOrdinal0 [0x00F75299+1397401]\n\tOrdinal0 [0x00F65593+1332627]\n\tOrdinal0 [0x00F7495F+1395039]\n\tOrdinal0 [0x00F6545B+1332315]\n\tOrdinal0 [0x00F41FB4+1187764]\n\tOrdinal0 [0x00F42E09+1191433]\n\tGetHandleVerifier [0x01203396+1551078]\n\tGetHandleVerifier [0x012AD53A+2247818]\n\tGetHandleVerifier [0x01107FBB+521995]\n\tGetHandleVerifier [0x01107079+518089]\n\tOrdinal0 [0x0101BD4D+2080077]\n\tOrdinal0 [0x0101FC18+2096152]\n\tOrdinal0 [0x0101FD52+2096466]\n\tOrdinal0 [0x010294B1+2135217]\n\tBaseThreadInitThunk [0x7678FA29+25]\n\tRtlGetAppContainerNamedObjectPath [0x773E7A9E+286]\n\tRtlGetAppContainerNamedObjectPath [0x773E7A6E+238]\n"
     ]
    }
   ],
   "source": [
    "driver.execute_script(\"document.querySelector('#page_product_detail > div.right_area.page_detail_product > div.popup_info.layer-suggest-join > div').style.display='none';\")"
   ]
  },
  {
   "cell_type": "code",
   "execution_count": 42,
   "id": "8d6e4732",
   "metadata": {
    "scrolled": true
   },
   "outputs": [
    {
     "name": "stderr",
     "output_type": "stream",
     "text": [
      "C:\\Users\\ddh10\\AppData\\Local\\Temp/ipykernel_11364/1191140391.py:1: DeprecationWarning: find_element_by_* commands are deprecated. Please use find_element() instead\n",
      "  driver.find_element_by_xpath('//*[@id=\"wrapEstimateList\"]/div/div[11]/div[2]/div/a[4]').click()\n"
     ]
    }
   ],
   "source": [
    "driver.find_element_by_xpath('//*[@id=\"wrapEstimateList\"]/div/div[11]/div[2]/div/a[4]').click()"
   ]
  },
  {
   "cell_type": "code",
   "execution_count": 43,
   "id": "c74d4e1b",
   "metadata": {},
   "outputs": [
    {
     "name": "stderr",
     "output_type": "stream",
     "text": [
      "C:\\Users\\ddh10\\AppData\\Local\\Temp/ipykernel_11364/2908456051.py:1: DeprecationWarning: find_element_by_* commands are deprecated. Please use find_element() instead\n",
      "  text = driver.find_element_by_xpath('//*[@id=\"estimateBox\"]/div[3]/ul/li[3]')\n",
      "C:\\Users\\ddh10\\AppData\\Local\\Temp/ipykernel_11364/2908456051.py:3: DeprecationWarning: find_element_by_* commands are deprecated. Please use find_element() instead\n",
      "  driver.find_element_by_xpath('//*[@id=\"wrapEstimateList\"]/div/div[11]/div[2]/div/a[4]').click()\n"
     ]
    }
   ],
   "source": [
    "text = driver.find_element_by_xpath('//*[@id=\"estimateBox\"]/div[3]/ul/li[3]')\n",
    "text.click()\n",
    "driver.find_element_by_xpath('//*[@id=\"wrapEstimateList\"]/div/div[11]/div[2]/div/a[4]').click()"
   ]
  },
  {
   "cell_type": "code",
   "execution_count": 27,
   "id": "41d33480",
   "metadata": {},
   "outputs": [
    {
     "name": "stderr",
     "output_type": "stream",
     "text": [
      "C:\\Users\\ddh10\\AppData\\Local\\Temp/ipykernel_11364/2784514543.py:1: DeprecationWarning: find_element_by_* commands are deprecated. Please use find_element() instead\n",
      "  driver.find_element_by_xpath('//*[@id=\"wrapEstimateList\"]/div/div[11]/div[2]/div/a[3]').click()\n"
     ]
    }
   ],
   "source": [
    "driver.find_element_by_xpath('//*[@id=\"wrapEstimateList\"]/div/div[11]/div[2]/div/a[3]').click()"
   ]
  },
  {
   "cell_type": "code",
   "execution_count": null,
   "id": "b43e2b56",
   "metadata": {},
   "outputs": [],
   "source": []
  }
 ],
 "metadata": {
  "kernelspec": {
   "display_name": "Python 3 (ipykernel)",
   "language": "python",
   "name": "python3"
  },
  "language_info": {
   "codemirror_mode": {
    "name": "ipython",
    "version": 3
   },
   "file_extension": ".py",
   "mimetype": "text/x-python",
   "name": "python",
   "nbconvert_exporter": "python",
   "pygments_lexer": "ipython3",
   "version": "3.8.11"
  }
 },
 "nbformat": 4,
 "nbformat_minor": 5
}
