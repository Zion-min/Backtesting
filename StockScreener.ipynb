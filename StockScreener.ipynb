{
 "cells": [
  {
   "cell_type": "code",
   "execution_count": 4,
   "id": "5f216dab",
   "metadata": {},
   "outputs": [],
   "source": [
    "import pandas_datareader as web\n",
    "import pandas as pd\n",
    "from yahoo_fin import stock_info as si\n",
    "import datetime as dt"
   ]
  },
  {
   "cell_type": "code",
   "execution_count": 5,
   "id": "ff3bbf39",
   "metadata": {},
   "outputs": [],
   "source": [
    "tickers = si.tickers_sp500()"
   ]
  },
  {
   "cell_type": "code",
   "execution_count": 7,
   "id": "a37bd09f",
   "metadata": {},
   "outputs": [],
   "source": [
    "start = dt.datetime.now() - dt.timedelta(days=365)\n",
    "end = dt.datetime.now()"
   ]
  },
  {
   "cell_type": "code",
   "execution_count": 8,
   "id": "00e8cd49",
   "metadata": {},
   "outputs": [],
   "source": [
    "sp500_df = web.DataReader('^GSPC', 'yahoo', start, end)"
   ]
  },
  {
   "cell_type": "code",
   "execution_count": 11,
   "id": "c0e26301",
   "metadata": {},
   "outputs": [],
   "source": [
    "sp500_df['Pct Change'] = sp500_df['Adj Close'].pct_change()"
   ]
  },
  {
   "cell_type": "code",
   "execution_count": 12,
   "id": "a2ed72f1",
   "metadata": {},
   "outputs": [],
   "source": [
    "#이게 결국에는 곱해갖고 비슷해지는 머 그런개념인듯\n",
    "sp500_return = (sp500_df['Pct Change'] + 1).cumprod()[-1]"
   ]
  },
  {
   "cell_type": "code",
   "execution_count": 13,
   "id": "0afb9078",
   "metadata": {},
   "outputs": [],
   "source": [
    "return_list = []\n",
    "final_df = pd.DataFrame(columns=['Ticker', 'Latest_Price', 'Score', 'PE_Ratio', 'PEG_Ratio', 'SMA_150', 'SMA_200', '52_Week_Low', '52_Week_High'])"
   ]
  },
  {
   "cell_type": "code",
   "execution_count": 19,
   "id": "5d2ee4fe",
   "metadata": {},
   "outputs": [],
   "source": [
    "for ticker in tickers:\n",
    "    df = web.DataReader(ticker,'yahoo', start, end)\n",
    "    df.to_csv(f'stock_data_{ticker}.csv')\n",
    "    \n",
    "    df['Pct Change'] = df['Adj Close'].pct_change()\n",
    "    stock_return = (df['Pct Change'] +1).cumprod()[-1]\n",
    "    \n",
    "    returns_compared = round((stock_return / sp500_return), 2)\n",
    "    return_list.append(returns_compared)\n",
    "    \n",
    "    counter +=1\n",
    "    if counter == 10:\n",
    "        break"
   ]
  },
  {
   "cell_type": "code",
   "execution_count": 24,
   "id": "f0732722",
   "metadata": {},
   "outputs": [],
   "source": [
    "best_performers = pd.DataFrame(list(zip(tickers, return_list)), columns=['Ticker', 'Returns Compared'])"
   ]
  },
  {
   "cell_type": "code",
   "execution_count": 64,
   "id": "7dbb183b",
   "metadata": {},
   "outputs": [],
   "source": [
    "best_performers = best_performers[:30]"
   ]
  },
  {
   "cell_type": "code",
   "execution_count": 65,
   "id": "d5fdbe53",
   "metadata": {},
   "outputs": [
    {
     "name": "stderr",
     "output_type": "stream",
     "text": [
      "C:\\Users\\ddh10\\AppData\\Local\\Temp/ipykernel_2000/169822585.py:1: SettingWithCopyWarning: \n",
      "A value is trying to be set on a copy of a slice from a DataFrame.\n",
      "Try using .loc[row_indexer,col_indexer] = value instead\n",
      "\n",
      "See the caveats in the documentation: https://pandas.pydata.org/pandas-docs/stable/user_guide/indexing.html#returning-a-view-versus-a-copy\n",
      "  best_performers['Score'] = best_performers['Returns Compared'].rank(pct=True)*100\n"
     ]
    }
   ],
   "source": [
    "best_performers['Score'] = best_performers['Returns Compared'].rank(pct=True)*100"
   ]
  },
  {
   "cell_type": "code",
   "execution_count": 66,
   "id": "4a9f5194",
   "metadata": {},
   "outputs": [],
   "source": [
    "#수익률 상위 70% 이상 스코어? 스코어는 보니까 높을수록 좋은듯\n",
    "best_performers = best_performers[best_performers['Score'] >= best_performers['Score'].quantile(0.7)]"
   ]
  },
  {
   "cell_type": "code",
   "execution_count": 68,
   "id": "512a64cf",
   "metadata": {},
   "outputs": [
    {
     "name": "stdout",
     "output_type": "stream",
     "text": [
      "The truth value of a Series is ambiguous. Use a.empty, a.bool(), a.item(), a.any() or a.all(). for ALB\n",
      "The truth value of a Series is ambiguous. Use a.empty, a.bool(), a.item(), a.any() or a.all(). for AMAT\n",
      "The truth value of a Series is ambiguous. Use a.empty, a.bool(), a.item(), a.any() or a.all(). for APA\n",
      "The truth value of a Series is ambiguous. Use a.empty, a.bool(), a.item(), a.any() or a.all(). for BBWI\n",
      "The truth value of a Series is ambiguous. Use a.empty, a.bool(), a.item(), a.any() or a.all(). for BKR\n",
      "The truth value of a Series is ambiguous. Use a.empty, a.bool(), a.item(), a.any() or a.all(). for CF\n",
      "The truth value of a Series is ambiguous. Use a.empty, a.bool(), a.item(), a.any() or a.all(). for CMA\n",
      "The truth value of a Series is ambiguous. Use a.empty, a.bool(), a.item(), a.any() or a.all(). for COF\n",
      "The truth value of a Series is ambiguous. Use a.empty, a.bool(), a.item(), a.any() or a.all(). for COP\n"
     ]
    }
   ],
   "source": [
    "#수익률 상위 30% 이내 애들 중에, 150일, 200일 이동평균 . rolling은 뒤에 mean, std, var등 메서드를 붙여줘야 완성됨.\n",
    "for ticker in best_performers['Ticker']:\n",
    "    try:\n",
    "        df = pd.read_csv(f'stock_data_{ticker}.csv', index_col=0)\n",
    "        moving_averages = [150, 200]\n",
    "        for ma in moving_averages:\n",
    "            df['SMA_' + str(ma)] = round(df['Adj Close'].rolling(window=ma).mean(), 2)\n",
    "        \n",
    "        latest_price = df['Adj Close'][-1]\n",
    "        pe_ratio = float(si.get_quote_table(ticker)['PE Ratio (TTM)'])\n",
    "        peg_ratio = float(si.get_stats_valuation(ticker)[1][4])\n",
    "        moving_average_150 = df['SMA_150'][-1]\n",
    "        moving_average_200 = df['SMA_200'][-1]\n",
    "        low_52week = round(min(df['Low'][-(52*5):], 2))\n",
    "        high_52week = round(max(df['High'][-(52*5):], 2))\n",
    "        #오~ for 문 돌리면서 ticker 검사, 똑같은거의 score만 가져오겟다\n",
    "        score = round(best_performers[best_performers['Ticker'] == ticker]['Score'].tolist())\n",
    "        \n",
    "        # 아니 조건식 이게됨? ㅋㅋ\n",
    "        condition_1 = latest_price > moving_average_150 > moving_average_200\n",
    "        #52주 저가보다 1.3배높은가\n",
    "        condition_2 = latest_price >= (1.3 * low_52week)\n",
    "        condition_3 = latest_price >= (0.75 * high_52week)\n",
    "        condition_4 = pe_ratio < 40\n",
    "        condition_5 = peg_ratio < 2\n",
    "        \n",
    "        if  condition_4 and condition_5:\n",
    "            final_df = final_df.append({'Ticker': ticker,\n",
    "                                        'Latest_Price': latest_price,\n",
    "                                        'Score': score,\n",
    "                                        'PE_Ratio': pe_ratio,\n",
    "                                        'Peg_Ratio': peg_ratio,\n",
    "                                        'SMA_150': moving_average_150,\n",
    "                                        'SMA_200': moving_average_200,\n",
    "                                        '52_Week_Low': low_52week,\n",
    "                                        '52_Week_High': high_52week                                       \n",
    "                                       }, ignore_index=True)\n",
    "         #ignore index, 열 이름 무시하고 정수 이름 부여\n",
    "    except Exception as e:\n",
    "        print(f\"{e} for {ticker}\")"
   ]
  },
  {
   "cell_type": "code",
   "execution_count": 41,
   "id": "49480d0e",
   "metadata": {},
   "outputs": [
    {
     "data": {
      "text/plain": [
       "Date\n",
       "2020-10-09           NaN\n",
       "2020-10-12           NaN\n",
       "2020-10-13           NaN\n",
       "2020-10-14           NaN\n",
       "2020-10-15           NaN\n",
       "                 ...    \n",
       "2021-10-01    182.610831\n",
       "2021-10-04    182.857976\n",
       "2021-10-05    183.174979\n",
       "2021-10-07    183.544352\n",
       "2021-10-08    183.895022\n",
       "Name: Adj Close, Length: 251, dtype: float64"
      ]
     },
     "execution_count": 41,
     "metadata": {},
     "output_type": "execute_result"
    }
   ],
   "source": [
    "df['Adj Close'].rolling(window=150).mean()"
   ]
  },
  {
   "cell_type": "code",
   "execution_count": 45,
   "id": "9f8c6639",
   "metadata": {},
   "outputs": [
    {
     "data": {
      "text/plain": [
       "{'1y Target Est': 167.92,\n",
       " '52 Week Range': '107.32 - 157.26',\n",
       " 'Ask': '142.84 x 2200',\n",
       " 'Avg. Volume': 80405556.0,\n",
       " 'Beta (5Y Monthly)': 1.22,\n",
       " 'Bid': '142.80 x 1100',\n",
       " \"Day's Range\": '142.56 - 144.17',\n",
       " 'EPS (TTM)': 5.11,\n",
       " 'Earnings Date': 'Oct 27, 2021 - Nov 01, 2021',\n",
       " 'Ex-Dividend Date': 'Aug 06, 2021',\n",
       " 'Forward Dividend & Yield': '0.88 (0.61%)',\n",
       " 'Market Cap': '2.385T',\n",
       " 'Open': 144.03,\n",
       " 'PE Ratio (TTM)': 27.98,\n",
       " 'Previous Close': 143.29,\n",
       " 'Quote Price': 142.89999389648438,\n",
       " 'Volume': 58773155.0}"
      ]
     },
     "execution_count": 45,
     "metadata": {},
     "output_type": "execute_result"
    }
   ],
   "source": [
    "si.get_quote_table('AAPL')"
   ]
  },
  {
   "cell_type": "code",
   "execution_count": 47,
   "id": "1e3682a5",
   "metadata": {},
   "outputs": [
    {
     "data": {
      "text/html": [
       "<div>\n",
       "<style scoped>\n",
       "    .dataframe tbody tr th:only-of-type {\n",
       "        vertical-align: middle;\n",
       "    }\n",
       "\n",
       "    .dataframe tbody tr th {\n",
       "        vertical-align: top;\n",
       "    }\n",
       "\n",
       "    .dataframe thead th {\n",
       "        text-align: right;\n",
       "    }\n",
       "</style>\n",
       "<table border=\"1\" class=\"dataframe\">\n",
       "  <thead>\n",
       "    <tr style=\"text-align: right;\">\n",
       "      <th></th>\n",
       "      <th>0</th>\n",
       "      <th>1</th>\n",
       "    </tr>\n",
       "  </thead>\n",
       "  <tbody>\n",
       "    <tr>\n",
       "      <th>0</th>\n",
       "      <td>Market Cap (intraday) 5</td>\n",
       "      <td>2.36T</td>\n",
       "    </tr>\n",
       "    <tr>\n",
       "      <th>1</th>\n",
       "      <td>Enterprise Value 3</td>\n",
       "      <td>2.44T</td>\n",
       "    </tr>\n",
       "    <tr>\n",
       "      <th>2</th>\n",
       "      <td>Trailing P/E</td>\n",
       "      <td>27.98</td>\n",
       "    </tr>\n",
       "    <tr>\n",
       "      <th>3</th>\n",
       "      <td>Forward P/E 1</td>\n",
       "      <td>25.16</td>\n",
       "    </tr>\n",
       "    <tr>\n",
       "      <th>4</th>\n",
       "      <td>PEG Ratio (5 yr expected) 1</td>\n",
       "      <td>1.38</td>\n",
       "    </tr>\n",
       "    <tr>\n",
       "      <th>5</th>\n",
       "      <td>Price/Sales (ttm)</td>\n",
       "      <td>6.80</td>\n",
       "    </tr>\n",
       "    <tr>\n",
       "      <th>6</th>\n",
       "      <td>Price/Book (mrq)</td>\n",
       "      <td>36.81</td>\n",
       "    </tr>\n",
       "    <tr>\n",
       "      <th>7</th>\n",
       "      <td>Enterprise Value/Revenue 3</td>\n",
       "      <td>7.02</td>\n",
       "    </tr>\n",
       "    <tr>\n",
       "      <th>8</th>\n",
       "      <td>Enterprise Value/EBITDA 7</td>\n",
       "      <td>21.96</td>\n",
       "    </tr>\n",
       "  </tbody>\n",
       "</table>\n",
       "</div>"
      ],
      "text/plain": [
       "                             0      1\n",
       "0      Market Cap (intraday) 5  2.36T\n",
       "1           Enterprise Value 3  2.44T\n",
       "2                 Trailing P/E  27.98\n",
       "3                Forward P/E 1  25.16\n",
       "4  PEG Ratio (5 yr expected) 1   1.38\n",
       "5            Price/Sales (ttm)   6.80\n",
       "6             Price/Book (mrq)  36.81\n",
       "7   Enterprise Value/Revenue 3   7.02\n",
       "8    Enterprise Value/EBITDA 7  21.96"
      ]
     },
     "execution_count": 47,
     "metadata": {},
     "output_type": "execute_result"
    }
   ],
   "source": [
    "si.get_stats_valuation('AAPL')"
   ]
  },
  {
   "cell_type": "code",
   "execution_count": 54,
   "id": "674666be",
   "metadata": {},
   "outputs": [],
   "source": [
    "df = pd.read_csv(f'stock_data_AAPL.csv', index_col=0)"
   ]
  },
  {
   "cell_type": "code",
   "execution_count": 59,
   "id": "7836a25e",
   "metadata": {},
   "outputs": [
    {
     "ename": "ValueError",
     "evalue": "The truth value of a Series is ambiguous. Use a.empty, a.bool(), a.item(), a.any() or a.all().",
     "output_type": "error",
     "traceback": [
      "\u001b[1;31m---------------------------------------------------------------------------\u001b[0m",
      "\u001b[1;31mValueError\u001b[0m                                Traceback (most recent call last)",
      "\u001b[1;32m~\\AppData\\Local\\Temp/ipykernel_2000/1838562717.py\u001b[0m in \u001b[0;36m<module>\u001b[1;34m\u001b[0m\n\u001b[0;32m      9\u001b[0m \u001b[0mmoving_average_150\u001b[0m \u001b[1;33m=\u001b[0m \u001b[0mdf\u001b[0m\u001b[1;33m[\u001b[0m\u001b[1;34m'SMA_150'\u001b[0m\u001b[1;33m]\u001b[0m\u001b[1;33m[\u001b[0m\u001b[1;33m-\u001b[0m\u001b[1;36m1\u001b[0m\u001b[1;33m]\u001b[0m\u001b[1;33m\u001b[0m\u001b[1;33m\u001b[0m\u001b[0m\n\u001b[0;32m     10\u001b[0m \u001b[0mmoving_average_200\u001b[0m \u001b[1;33m=\u001b[0m \u001b[0mdf\u001b[0m\u001b[1;33m[\u001b[0m\u001b[1;34m'SMA_200'\u001b[0m\u001b[1;33m]\u001b[0m\u001b[1;33m[\u001b[0m\u001b[1;33m-\u001b[0m\u001b[1;36m1\u001b[0m\u001b[1;33m]\u001b[0m\u001b[1;33m\u001b[0m\u001b[1;33m\u001b[0m\u001b[0m\n\u001b[1;32m---> 11\u001b[1;33m \u001b[0mlow_52week\u001b[0m \u001b[1;33m=\u001b[0m \u001b[0mround\u001b[0m\u001b[1;33m(\u001b[0m\u001b[0mmin\u001b[0m\u001b[1;33m(\u001b[0m\u001b[0mdf\u001b[0m\u001b[1;33m[\u001b[0m\u001b[1;34m'Low'\u001b[0m\u001b[1;33m]\u001b[0m\u001b[1;33m[\u001b[0m\u001b[1;33m-\u001b[0m\u001b[1;33m(\u001b[0m\u001b[1;36m52\u001b[0m\u001b[1;33m*\u001b[0m\u001b[1;36m5\u001b[0m\u001b[1;33m)\u001b[0m\u001b[1;33m:\u001b[0m\u001b[1;33m]\u001b[0m\u001b[1;33m,\u001b[0m \u001b[1;36m2\u001b[0m\u001b[1;33m)\u001b[0m\u001b[1;33m)\u001b[0m\u001b[1;33m\u001b[0m\u001b[1;33m\u001b[0m\u001b[0m\n\u001b[0m\u001b[0;32m     12\u001b[0m \u001b[0mhigh_52week\u001b[0m \u001b[1;33m=\u001b[0m \u001b[0mround\u001b[0m\u001b[1;33m(\u001b[0m\u001b[0mmax\u001b[0m\u001b[1;33m(\u001b[0m\u001b[0mdf\u001b[0m\u001b[1;33m[\u001b[0m\u001b[1;34m'High'\u001b[0m\u001b[1;33m]\u001b[0m\u001b[1;33m[\u001b[0m\u001b[1;33m-\u001b[0m\u001b[1;33m(\u001b[0m\u001b[1;36m52\u001b[0m\u001b[1;33m*\u001b[0m\u001b[1;36m5\u001b[0m\u001b[1;33m)\u001b[0m\u001b[1;33m:\u001b[0m\u001b[1;33m]\u001b[0m\u001b[1;33m,\u001b[0m \u001b[1;36m2\u001b[0m\u001b[1;33m)\u001b[0m\u001b[1;33m)\u001b[0m\u001b[1;33m\u001b[0m\u001b[1;33m\u001b[0m\u001b[0m\n\u001b[0;32m     13\u001b[0m \u001b[1;31m#오~ for 문 돌리면서 ticker 검사, 똑같은거의 score만 가져오겟다\u001b[0m\u001b[1;33m\u001b[0m\u001b[1;33m\u001b[0m\u001b[1;33m\u001b[0m\u001b[0m\n",
      "\u001b[1;32m~\\anaconda3\\envs\\new\\lib\\site-packages\\pandas\\core\\generic.py\u001b[0m in \u001b[0;36m__nonzero__\u001b[1;34m(self)\u001b[0m\n\u001b[0;32m   1535\u001b[0m     \u001b[1;33m@\u001b[0m\u001b[0mfinal\u001b[0m\u001b[1;33m\u001b[0m\u001b[1;33m\u001b[0m\u001b[0m\n\u001b[0;32m   1536\u001b[0m     \u001b[1;32mdef\u001b[0m \u001b[0m__nonzero__\u001b[0m\u001b[1;33m(\u001b[0m\u001b[0mself\u001b[0m\u001b[1;33m)\u001b[0m\u001b[1;33m:\u001b[0m\u001b[1;33m\u001b[0m\u001b[1;33m\u001b[0m\u001b[0m\n\u001b[1;32m-> 1537\u001b[1;33m         raise ValueError(\n\u001b[0m\u001b[0;32m   1538\u001b[0m             \u001b[1;34mf\"The truth value of a {type(self).__name__} is ambiguous. \"\u001b[0m\u001b[1;33m\u001b[0m\u001b[1;33m\u001b[0m\u001b[0m\n\u001b[0;32m   1539\u001b[0m             \u001b[1;34m\"Use a.empty, a.bool(), a.item(), a.any() or a.all().\"\u001b[0m\u001b[1;33m\u001b[0m\u001b[1;33m\u001b[0m\u001b[0m\n",
      "\u001b[1;31mValueError\u001b[0m: The truth value of a Series is ambiguous. Use a.empty, a.bool(), a.item(), a.any() or a.all()."
     ]
    }
   ],
   "source": [
    "ticker = 'AAPL'\n",
    "moving_averages = [150, 200]\n",
    "for ma in moving_averages:\n",
    "    df['SMA_' + str(ma)] = round(df['Adj Close'].rolling(window=ma).mean(), 2)\n",
    "\n",
    "latest_price = df['Adj Close'][-1]\n",
    "pe_ratio = float(si.get_quote_table(ticker)['PE Ratio (TTM)'])\n",
    "peg_ratio = float(si.get_stats_valuation(ticker)[1][4])\n",
    "moving_average_150 = df['SMA_150'][-1]\n",
    "moving_average_200 = df['SMA_200'][-1]\n",
    "low_52week = round(min(df['Low'][-(52*5):], 2))\n",
    "high_52week = round(max(df['High'][-(52*5):], 2))\n",
    "#오~ for 문 돌리면서 ticker 검사, 똑같은거의 score만 가져오겟다\n",
    "score = round(best_performers[best_performers['Ticker'] == ticker]['Score'].tolist())\n",
    "\n",
    "# 아니 조건식 이게됨? ㅋㅋ\n",
    "condition_1 = latest_price > moving_average_150 > moving_average_200\n",
    "#52주 저가보다 1.3배높은가\n",
    "condition_2 = latest_price >= (1.3 * low_52week)\n",
    "condition_3 = latest_price >= (0.75 * high_52week)\n",
    "condition_4 = pe_ratio < 40\n",
    "condition_5 = peg_ratio < 2\n",
    "\n",
    "if condition_1 and condition_2 and condition_3 and condition_4 and condition_5:\n",
    "    final_df = final_df.append({'Ticker': ticker,\n",
    "                                'Latest_Price': latest_price,\n",
    "                                'Score': score,\n",
    "                                'PE_Ratio': pe_ratio,\n",
    "                                'Peg_Ratio': peg_ratio,\n",
    "                                'SMA_150': moving_average_150,\n",
    "                                'SMA_200': moving_average_200,\n",
    "                                '52_Week_Low': low_52week,\n",
    "                                '52_Week_High': high_52week                                       \n",
    "                               }, ignore_index=True)\n"
   ]
  },
  {
   "cell_type": "code",
   "execution_count": 69,
   "id": "df72e8a4",
   "metadata": {},
   "outputs": [
    {
     "name": "stdout",
     "output_type": "stream",
     "text": [
      "Empty DataFrame\n",
      "Columns: [Ticker, Latest_Price, Score, PE_Ratio, PEG_Ratio, SMA_150, SMA_200, 52_Week_Low, 52_Week_High]\n",
      "Index: []\n"
     ]
    }
   ],
   "source": [
    "#내림차순\n",
    "final_df.sort_values(by='Score', ascending=False)\n",
    "pd.set_option('display.max_columns', 10)\n",
    "print(final_df)\n",
    "final_df.to_csv('final.csv')"
   ]
  },
  {
   "cell_type": "code",
   "execution_count": null,
   "id": "6679b0f0",
   "metadata": {},
   "outputs": [],
   "source": []
  }
 ],
 "metadata": {
  "kernelspec": {
   "display_name": "Python 3 (ipykernel)",
   "language": "python",
   "name": "python3"
  },
  "language_info": {
   "codemirror_mode": {
    "name": "ipython",
    "version": 3
   },
   "file_extension": ".py",
   "mimetype": "text/x-python",
   "name": "python",
   "nbconvert_exporter": "python",
   "pygments_lexer": "ipython3",
   "version": "3.8.11"
  }
 },
 "nbformat": 4,
 "nbformat_minor": 5
}
