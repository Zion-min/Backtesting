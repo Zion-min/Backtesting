{
 "cells": [
  {
   "cell_type": "code",
   "execution_count": 2,
   "id": "ab927f97",
   "metadata": {},
   "outputs": [],
   "source": [
    "import os\n",
    "from yahoo_fin import stock_info as si"
   ]
  },
  {
   "cell_type": "code",
   "execution_count": 3,
   "id": "a20bc53e",
   "metadata": {},
   "outputs": [],
   "source": [
    "tickers = si.tickers_sp500()"
   ]
  },
  {
   "cell_type": "code",
   "execution_count": null,
   "id": "a1c74da2",
   "metadata": {},
   "outputs": [],
   "source": [
    "for ticker in tickers:\n",
    "    file = f'stock_data_{ticker}''\n",
    "    if os.path.isfile(file):\n",
    "          os.remove(file)\n"
   ]
  }
 ],
 "metadata": {
  "kernelspec": {
   "display_name": "Python 3 (ipykernel)",
   "language": "python",
   "name": "python3"
  },
  "language_info": {
   "codemirror_mode": {
    "name": "ipython",
    "version": 3
   },
   "file_extension": ".py",
   "mimetype": "text/x-python",
   "name": "python",
   "nbconvert_exporter": "python",
   "pygments_lexer": "ipython3",
   "version": "3.8.11"
  }
 },
 "nbformat": 4,
 "nbformat_minor": 5
}
